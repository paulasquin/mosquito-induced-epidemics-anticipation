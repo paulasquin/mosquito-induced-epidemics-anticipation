{
 "cells": [
  {
   "cell_type": "code",
   "metadata": {},
   "outputs": [],
   "source": [
    "%matplotlib inline"
   ]
  },
  {
   "cell_type": "markdown",
   "metadata": {},
   "source": [
    "# Data analysis for geographic information "
   ]
  },
  {
   "cell_type": "code",
   "metadata": {},
   "outputs": [],
   "source": [
    "import pandas as pd\n",
    "import matplotlib.pyplot as plt\n",
    "import numpy as np"
   ]
  },
  {
   "cell_type": "code",
   "metadata": {},
   "outputs": [],
   "source": [
    "def import_data_standard(file : str):\n",
    "    data = pd.read_csv('data/' + file)\n",
    "    data.drop(labels = ['GHO (CODE)', 'GHO (DISPLAY)', 'GHO (URL)', 'PUBLISHSTATE (CODE)', 'PUBLISHSTATE (DISPLAY)', \n",
    "                        'PUBLISHSTATE (URL)', 'YEAR (CODE)', 'YEAR (URL)', 'REGION (DISPLAY)', 'REGION (URL)', \n",
    "                        'COUNTRY (DISPLAY)', 'COUNTRY (URL)', 'Low', 'High', 'Comments'], axis = 1, inplace = True)\n",
    "    data.rename(index = str, inplace = True, columns = \n",
    "               {'YEAR (DISPLAY)' : 'YEAR', 'REGION (CODE)' : 'REGION', 'COUNTRY (CODE)' : 'COUNTRY'})\n",
    "    return data"
   ]
  },
  {
   "cell_type": "code",
   "metadata": {},
   "outputs": [],
   "source": [
    "estimate_cases = import_data_standard('estimate_cases.csv')\n",
    "print(estimate_cases.head())\n",
    "print()\n",
    "\n",
    "estimated_deaths = import_data_standard('estimated_deaths.csv')\n",
    "print(estimated_deaths.head())\n",
    "print()\n",
    "\n",
    "insecticide_resistance = import_data_standard('insecticide_resistance.csv')\n",
    "insecticide_resistance.drop(labels = ['Numeric'], axis = 1, inplace = True)\n",
    "print(insecticide_resistance.head())\n",
    "print()\n",
    "\n",
    "population_stats = import_data_standard('population_stats.csv')\n",
    "population_stats.drop(labels = ['WORLDBANKINCOMEGROUP (CODE)', 'WORLDBANKINCOMEGROUP (DISPLAY)', \n",
    "                                'WORLDBANKINCOMEGROUP (URL)'], axis = 1, inplace = True)\n",
    "print(population_stats.head())\n",
    "print()\n",
    "\n",
    "reported_deaths = import_data_standard('reported_deaths.csv')\n",
    "print(reported_deaths.head())\n",
    "print()\n",
    "\n",
    "reported_confirmed_cases = import_data_standard('reported_indigenous_confirmed_cases.csv')\n",
    "print(reported_confirmed_cases.head())\n",
    "print()"
   ]
  },
  {
   "cell_type": "code",
   "metadata": {
    "scrolled": true
   },
   "outputs": [],
   "source": [
    "africa_vector = pd.read_csv('data/Africa_Vectors_database_1898-2016.csv')\n",
    "africa_vector.drop(labels = ['GAUL_Admin2', 'Full_Name', 'LatLong_Source', 'Sampling_Methods', 'Species_Identification',\n",
    "                             'Other sib species names', 'Other Anopheline species', 'Unnamed: 40', 'Unnamed: 41', \n",
    "                             'Unnamed: 42', 'Unnamed: 43'], axis = 1, inplace = True)\n",
    "print(africa_vector.head())"
   ]
  },
  {
   "cell_type": "markdown",
   "metadata": {},
   "source": [
    "## Execute to suppress subspecies of An gambiae complex"
   ]
  },
  {
   "cell_type": "code",
   "metadata": {},
   "outputs": [],
   "source": [
    "africa_vector.drop(labels = [ 'An gambiae ss', 'SS M Form (An colluzzi or Mopti forms)', \n",
    "                             'SS S Form (savanah or Bamako forms)', 'An arabiensis', 'An. melas', 'An. merus', \n",
    "                             'An bwambae', 'An funestus s.s. (specified)','An rivulorum', 'An leesoni', 'An parensis', \n",
    "                             'An vaneedeni'], axis = 1, inplace = True)"
   ]
  }
 ],
 "metadata": {
  "kernelspec": {
   "display_name": "Python 3",
   "language": "python",
   "name": "python3"
  },
  "language_info": {
   "codemirror_mode": {
    "name": "ipython",
    "version": 3
   },
   "file_extension": ".py",
   "mimetype": "text/x-python",
   "name": "python",
   "nbconvert_exporter": "python",
   "pygments_lexer": "ipython3",
   "version": "3.6.6"
  }
 },
 "nbformat": 4,
 "nbformat_minor": 2
}